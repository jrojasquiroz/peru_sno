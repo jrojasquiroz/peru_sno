{
  "nbformat": 4,
  "nbformat_minor": 0,
  "metadata": {
    "colab": {
      "provenance": [],
      "mount_file_id": "11D0aiAq8A7BVDwIzRbB38ncOUkjlg034",
      "authorship_tag": "ABX9TyPDSE7CopierERlCf2RgBkQ",
      "include_colab_link": true
    },
    "kernelspec": {
      "name": "python3",
      "display_name": "Python 3"
    },
    "language_info": {
      "name": "python"
    }
  },
  "cells": [
    {
      "cell_type": "markdown",
      "metadata": {
        "id": "view-in-github",
        "colab_type": "text"
      },
      "source": [
        "<a href=\"https://colab.research.google.com/github/jrojasquiroz/perusno/blob/main/data_prep_perusno.ipynb\" target=\"_parent\"><img src=\"https://colab.research.google.com/assets/colab-badge.svg\" alt=\"Open In Colab\"/></a>"
      ]
    },
    {
      "cell_type": "markdown",
      "source": [
        "Por separado, tenía el archivo del polígono urbano de las principales ciudades del Perú, las manzanas de todo el país con su respectiva población (ambos datos identificados por INEI con base en el Censo de 2017), y las regiones naturales.\n",
        "\n",
        "Lo que hago en este cuaderno es preparar los datos para luego analizarlos. Esta preparación no consiste en más que unir todos esos datos en un único archivo que yo exporto a la carpeta `dataviz/orientacion/pu-principalesciudades-WGS84.gpkg` de mi Drive, tú debes seleccionar una dentro de tu directorio."
      ],
      "metadata": {
        "id": "ltBYaMcOnf_7"
      }
    },
    {
      "cell_type": "code",
      "execution_count": 1,
      "metadata": {
        "colab": {
          "base_uri": "https://localhost:8080/"
        },
        "collapsed": true,
        "id": "u2NkLVhwkM8B",
        "outputId": "1effa51c-a58a-4016-ede6-b831f31385ff"
      },
      "outputs": [
        {
          "output_type": "stream",
          "name": "stdout",
          "text": [
            "Requirement already satisfied: geopandas in /usr/local/lib/python3.10/dist-packages (1.0.1)\n",
            "Requirement already satisfied: numpy>=1.22 in /usr/local/lib/python3.10/dist-packages (from geopandas) (1.26.4)\n",
            "Requirement already satisfied: pyogrio>=0.7.2 in /usr/local/lib/python3.10/dist-packages (from geopandas) (0.10.0)\n",
            "Requirement already satisfied: packaging in /usr/local/lib/python3.10/dist-packages (from geopandas) (24.1)\n",
            "Requirement already satisfied: pandas>=1.4.0 in /usr/local/lib/python3.10/dist-packages (from geopandas) (2.2.2)\n",
            "Requirement already satisfied: pyproj>=3.3.0 in /usr/local/lib/python3.10/dist-packages (from geopandas) (3.7.0)\n",
            "Requirement already satisfied: shapely>=2.0.0 in /usr/local/lib/python3.10/dist-packages (from geopandas) (2.0.6)\n",
            "Requirement already satisfied: python-dateutil>=2.8.2 in /usr/local/lib/python3.10/dist-packages (from pandas>=1.4.0->geopandas) (2.8.2)\n",
            "Requirement already satisfied: pytz>=2020.1 in /usr/local/lib/python3.10/dist-packages (from pandas>=1.4.0->geopandas) (2024.2)\n",
            "Requirement already satisfied: tzdata>=2022.7 in /usr/local/lib/python3.10/dist-packages (from pandas>=1.4.0->geopandas) (2024.2)\n",
            "Requirement already satisfied: certifi in /usr/local/lib/python3.10/dist-packages (from pyogrio>=0.7.2->geopandas) (2024.8.30)\n",
            "Requirement already satisfied: six>=1.5 in /usr/local/lib/python3.10/dist-packages (from python-dateutil>=2.8.2->pandas>=1.4.0->geopandas) (1.16.0)\n"
          ]
        }
      ],
      "source": [
        "pip install geopandas"
      ]
    },
    {
      "cell_type": "code",
      "source": [
        "import geopandas as gpd"
      ],
      "metadata": {
        "id": "hKy7WzHjk4M9"
      },
      "execution_count": 3,
      "outputs": []
    },
    {
      "cell_type": "code",
      "source": [
        "# Cargar los polígonos urbanos de las ciudades\n",
        "gdf_cities = gpd.read_file('/content/drive/MyDrive/Datos/vectores/base/Manzanas Perú (INEI)/pu-principalesciudades-og_WGS84.gpkg')\n",
        "\n",
        "# Cargar las manzanas con la población\n",
        "gdf_manzanas = gpd.read_file('/content/drive/MyDrive/Datos/vectores/base/Manzanas Perú (Geo GPS Perú)/peru-mzsurb_WGS84.gpkg')\n",
        "\n",
        "# Cargar las regiones naturales\n",
        "gdf_regiones = gpd.read_file('/content/drive/MyDrive/Datos/vectores/base/peru-regiones_nat-WGS84.gpkg')"
      ],
      "metadata": {
        "id": "FodVCNGUkcFe"
      },
      "execution_count": 4,
      "outputs": []
    },
    {
      "cell_type": "code",
      "source": [
        "# ------------------- INTERSECCIÓN CON MANZANAS Y SUMA DE POBLACIÓN -------------------\n",
        "\n",
        "# Realizar la intersección espacial entre las ciudades y las manzanas\n",
        "# Esto devuelve solo las manzanas que caen dentro de los límites de cada ciudad\n",
        "intersected_manzanas = gpd.overlay(gdf_manzanas, gdf_cities, how='intersection')\n",
        "\n",
        "# Sumar la población de las manzanas dentro de cada ciudad\n",
        "# La columna de población en el archivo de manzanas es 'T_TOTAL', y agrupamos por el identificador de la ciudad\n",
        "pop_by_city = intersected_manzanas.groupby('CIUDAD')['T_TOTAL'].sum().reset_index()\n",
        "\n",
        "# Unir la población a los datos de las ciudades\n",
        "# Nos aseguramos de que el nombre de la ciudad sea la clave para la unión\n",
        "gdf_cities = gdf_cities.merge(pop_by_city, on='CIUDAD', how='left')\n",
        "\n",
        "# Renombrar la columna de población como 'POB17'\n",
        "gdf_cities.rename(columns={'T_TOTAL': 'POB17'}, inplace=True)\n",
        "\n",
        "# ------------------- INTERSECCIÓN CON REGIONES NATURALES -------------------\n",
        "\n",
        "# Realizar la intersección espacial entre las ciudades y las regiones naturales\n",
        "intersected_regiones = gpd.overlay(gdf_cities, gdf_regiones, how='intersection')\n",
        "\n",
        "# Mantener solo las columnas necesarias, es decir, agregar la columna 'Nm_RegNat' de las regiones naturales\n",
        "# Asegurarse de que no haya duplicados después de la intersección\n",
        "intersected_regiones = intersected_regiones[['CIUDAD', 'Nm_RegNat']].drop_duplicates()\n",
        "\n",
        "# Unir la información de la región natural a los datos de las ciudades\n",
        "gdf_cities = gdf_cities.merge(intersected_regiones, on='CIUDAD', how='left')\n",
        "\n",
        "# Renombrar la columna de la región natural como 'REGNAT'\n",
        "gdf_cities.rename(columns={'Nm_RegNat': 'REGNAT'}, inplace=True)\n",
        "\n",
        "# Mostrar el resultado\n",
        "print(gdf_cities[['CIUDAD', 'POB17', 'REGNAT']])\n"
      ],
      "metadata": {
        "colab": {
          "base_uri": "https://localhost:8080/"
        },
        "id": "8ciqT-xCkZ71",
        "outputId": "580b73bb-bbaf-41f8-a319-4c32128128e1"
      },
      "execution_count": 5,
      "outputs": [
        {
          "output_type": "stream",
          "name": "stdout",
          "text": [
            "                CIUDAD      POB17  REGNAT\n",
            "0              ABANCAY    71781.0  Sierra\n",
            "1          ANDAHUAYLAS    57823.0  Sierra\n",
            "2             AREQUIPA  1006502.0  Sierra\n",
            "3             AYACUCHO   217551.0  Sierra\n",
            "4              AYAVIRI    21430.0  Sierra\n",
            "..                 ...        ...     ...\n",
            "87                VIRU    20297.0   Costa\n",
            "88               YAURI    28401.0  Sierra\n",
            "89          YURIMAGUAS    62384.0   Selva\n",
            "90           ZARUMILLA    36525.0   Costa\n",
            "91  LIMA METROPOLITANA  9141029.0   Costa\n",
            "\n",
            "[92 rows x 3 columns]\n"
          ]
        }
      ]
    },
    {
      "cell_type": "code",
      "source": [
        "gdf_cities.to_file('/content/drive/MyDrive/Documentos personales/1-Investigaciones y análisis/dataviz/orientacion/pu-principalesciudades-WGS84.gpkg')"
      ],
      "metadata": {
        "id": "KdzHkfP1mzpg"
      },
      "execution_count": 6,
      "outputs": []
    }
  ]
}